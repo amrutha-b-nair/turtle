{
 "cells": [
  {
   "cell_type": "code",
   "execution_count": 1,
   "id": "13193c0a",
   "metadata": {},
   "outputs": [],
   "source": [
    "import turtle"
   ]
  },
  {
   "cell_type": "code",
   "execution_count": 50,
   "id": "6e081950",
   "metadata": {},
   "outputs": [],
   "source": [
    "def square_zero(length):\n",
    "    for i in range(4):\n",
    "        turtle.forward(length)\n",
    "        turtle.left(90)"
   ]
  },
  {
   "cell_type": "code",
   "execution_count": 57,
   "id": "dc6be7e9",
   "metadata": {},
   "outputs": [],
   "source": [
    "def turtle_square(degree, length):\n",
    "    turtle.left(degree)\n",
    "    square_zero(length)"
   ]
  },
  {
   "cell_type": "code",
   "execution_count": 104,
   "id": "3d466c41",
   "metadata": {},
   "outputs": [],
   "source": [
    "from colorsys import hls_to_rgb\n",
    "\n",
    "def rainbow_color_stops(n, end):\n",
    "    return [ hls_to_rgb(end * i/(n-1), 0.5, 1) for i in range(n) ]"
   ]
  },
  {
   "cell_type": "code",
   "execution_count": 105,
   "id": "6f348b27",
   "metadata": {},
   "outputs": [],
   "source": [
    "def square_circle(number, length):\n",
    "    degree=360/number\n",
    "    colors=rainbow_color_stops(number, 1)\n",
    "    for i in range(number):\n",
    "        if i%2==0:\n",
    "            turtle.color(colors[i])\n",
    "            turtle.pensize(3) \n",
    "        else:\n",
    "            turtle.color('black')\n",
    "            turtle.pensize(1.5)\n",
    "        turtle_square(degree, length)\n",
    "            \n",
    "    "
   ]
  },
  {
   "cell_type": "code",
   "execution_count": 110,
   "id": "ed902d6d",
   "metadata": {},
   "outputs": [],
   "source": [
    "turtle.reset()\n",
    "square_circle(20, 100)"
   ]
  },
  {
   "cell_type": "code",
   "execution_count": 81,
   "id": "3bd7f0ed",
   "metadata": {},
   "outputs": [],
   "source": []
  },
  {
   "cell_type": "code",
   "execution_count": null,
   "id": "f0858db6",
   "metadata": {},
   "outputs": [],
   "source": []
  }
 ],
 "metadata": {
  "kernelspec": {
   "display_name": "Python 3 (ipykernel)",
   "language": "python",
   "name": "python3"
  },
  "language_info": {
   "codemirror_mode": {
    "name": "ipython",
    "version": 3
   },
   "file_extension": ".py",
   "mimetype": "text/x-python",
   "name": "python",
   "nbconvert_exporter": "python",
   "pygments_lexer": "ipython3",
   "version": "3.9.7"
  }
 },
 "nbformat": 4,
 "nbformat_minor": 5
}
